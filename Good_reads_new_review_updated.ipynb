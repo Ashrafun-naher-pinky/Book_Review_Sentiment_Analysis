{
 "cells": [
  {
   "cell_type": "code",
   "execution_count": 1,
   "id": "13e398d2",
   "metadata": {},
   "outputs": [],
   "source": [
    "#defining function for scraping goodreads reviews for certain webpages\n",
    "\n",
    "def goodreads_review(URL,Genre):\n",
    "    # importing libraries \n",
    "    import requests\n",
    "    from bs4 import BeautifulSoup\n",
    "    import pandas as pd\n",
    "    from datetime import date\n",
    "    import json\n",
    "    \n",
    "    #defining AttributeError exception for get_text\n",
    "    def txt_ex(i,select,class_):\n",
    "        try:\n",
    "            return i.find(select,class_).get_text().strip()\n",
    "        except AttributeError as Err:\n",
    "            return None\n",
    "    \n",
    "    #defining AttributeError exception for links\n",
    "    def link_ex(i,href):\n",
    "        try:\n",
    "            return i.get(href)\n",
    "        except AttributeError as Err:\n",
    "            return None\n",
    "    \n",
    "    #removing spaces\n",
    "    def remove_en(string):\n",
    "        if string is not None:\n",
    "            return string.replace(\"\\n\", \"\")\n",
    "        \n",
    "    #defining pulling data from website\n",
    "    def pull_data(URL):\n",
    "\n",
    "        headers = {\"User-Agent\": \"Mozilla/5.0 (Windows NT 10.0; Win64; x64) AppleWebKit/537.36 (KHTML, like Gecko) Chrome/113.0.0.0 Safari/537.36\", \"Accept-Encoding\":\"gzip, deflate\", \"Accept\":\"text/html,application/xhtml+xml,application/xml;q=0.9,*/*;q=0.8\", \"DNT\":\"1\",\"Connection\":\"close\", \"Upgrade-Insecure-Requests\":\"1\"}\n",
    "\n",
    "        page=requests.get(URL, headers=headers)\n",
    "\n",
    "        soup1 = BeautifulSoup(page.content, \"html.parser\")\n",
    "\n",
    "        soup2 = BeautifulSoup(soup1.prettify(), \"html.parser\")\n",
    "\n",
    "        return soup2\n",
    "\n",
    "    data=[]\n",
    "    review_date=date.today()\n",
    "    header_list=['Review_date','Title','Series','Author','Overall_Rating','Genre','Price','Reviewer','Individual_Rating','Review_Date','Review', 'Pages_published','Description']\n",
    "    file_name=f'{Genre}_book_reveiw {review_date}.csv'\n",
    "    soup=pull_data(URL)\n",
    "    divs=soup.find('div',\"bigBoxContent containerWithHeaderContent\")\n",
    "    divs2=divs.find_all('div',\"coverRow\")\n",
    "    for div in divs2:\n",
    "        div1=div.find_all('div',\"leftAlignedImage bookBox\")\n",
    "        for division in div1:\n",
    "            a_s=division.find('a')\n",
    "            link=link_ex(a_s,'href')\n",
    "            link=f'https://www.goodreads.com{link}'\n",
    "            soup2=pull_data(link)\n",
    "            til=soup2.find(\"div\", class_=\"BookPageTitleSection\")\n",
    "            series=txt_ex(til,'a',\"\")\n",
    "            series=remove_en(series)\n",
    "            title=txt_ex(til,'h1',\"Text Text__title1\")\n",
    "            button=soup2.find(\"button\",class_=\"Button Button--buy Button--medium Button--block\")\n",
    "            price=txt_ex(button,'span',\"Button__labelItem\")\n",
    "            author=txt_ex(soup2,'span',\"ContributorLink__name\" )\n",
    "            rating=txt_ex(soup2,'div',\"RatingStatistics__rating\")\n",
    "            genres=soup2.find_all('span',\"BookPageMetadataSection__genreButton\")\n",
    "            desc=soup2.find('div', class_=\"DetailsLayoutRightParagraph__widthConstrained\")\n",
    "            desc=txt_ex(desc,'span',\"Formatted\")\n",
    "            desc=remove_en(desc)\n",
    "            gens=[]\n",
    "            for gen in genres:\n",
    "                genre=txt_ex(gen,'span',\"Button__labelItem\")\n",
    "                gens.append(genre)\n",
    "            pf=soup2.find('div',\"CollapsableList\")\n",
    "            page=txt_ex(pf,'span',\"Text Text__body3\")\n",
    "            page=remove_en(page)\n",
    "            r_list=soup2.find_all('article',\"ReviewCard\")\n",
    "            for lists in r_list:\n",
    "                reviewer=txt_ex(lists,'div',\"ReviewerProfile__name\")\n",
    "                span=lists.find('span',\"RatingStars RatingStars__small\")\n",
    "                star=link_ex(span,'aria-label')\n",
    "                date=txt_ex(lists,'span',\"Text Text__body3\")\n",
    "                review=txt_ex(lists,'span','Formatted')\n",
    "                review=remove_en(review)\n",
    "                data.append([review_date, title, series, author, rating, gens, price, reviewer, star, date, review, page, desc])\n",
    "                df=pd.DataFrame(data)\n",
    "                df.to_csv(file_name, header=header_list, index=False)\n",
    "    print('Scraping is Done!')"
   ]
  },
  {
   "cell_type": "code",
   "execution_count": 2,
   "id": "c2712ec4",
   "metadata": {},
   "outputs": [],
   "source": [
    "\n",
    "URL=f'https://www.goodreads.com/genres/new_releases/fantasy'\n",
    "\n",
    "Genre=\"fantasy_new\"\n",
    "\n",
    "scrap=goodreads_review(URL,Genre)"
   ]
  },
  {
   "cell_type": "code",
   "execution_count": 2,
   "id": "58bd355c",
   "metadata": {},
   "outputs": [
    {
     "name": "stdout",
     "output_type": "stream",
     "text": [
      "Scraping is Done!\n"
     ]
    }
   ],
   "source": [
    "URL=f'https://www.goodreads.com/genres/new_releases/romance'\n",
    "\n",
    "Genre=\"romance_new\"\n",
    "\n",
    "scrap=goodreads_review(URL,Genre)"
   ]
  },
  {
   "cell_type": "code",
   "execution_count": 3,
   "id": "93ccd580",
   "metadata": {},
   "outputs": [
    {
     "name": "stdout",
     "output_type": "stream",
     "text": [
      "Scraping is Done!\n"
     ]
    }
   ],
   "source": [
    "URL=f'https://www.goodreads.com/genres/new_releases/science-fiction'\n",
    "\n",
    "Genre=\"science-fiction_new\"\n",
    "\n",
    "scrap=goodreads_review(URL,Genre)"
   ]
  },
  {
   "cell_type": "code",
   "execution_count": 4,
   "id": "03b35644",
   "metadata": {},
   "outputs": [
    {
     "name": "stdout",
     "output_type": "stream",
     "text": [
      "Scraping is Done!\n"
     ]
    }
   ],
   "source": [
    "URL=f'https://www.goodreads.com/genres/new_releases/historical-fiction'\n",
    "\n",
    "Genre=\"historical-fiction_new\"\n",
    "\n",
    "scrap=goodreads_review(URL,Genre)"
   ]
  },
  {
   "cell_type": "code",
   "execution_count": 6,
   "id": "dc0ad1af",
   "metadata": {},
   "outputs": [
    {
     "name": "stdout",
     "output_type": "stream",
     "text": [
      "Scraping is Done!\n"
     ]
    }
   ],
   "source": [
    "URL=f'https://www.goodreads.com/genres/new_releases/thriller'\n",
    "\n",
    "Genre=\"thriller_new\"\n",
    "\n",
    "scrap=goodreads_review(URL,Genre)"
   ]
  },
  {
   "cell_type": "code",
   "execution_count": 7,
   "id": "77bbd503",
   "metadata": {},
   "outputs": [
    {
     "name": "stdout",
     "output_type": "stream",
     "text": [
      "Scraping is Done!\n"
     ]
    }
   ],
   "source": [
    "URL=f'https://www.goodreads.com/genres/new_releases/non-fiction'\n",
    "\n",
    "Genre=\"non-fiction_new\"\n",
    "\n",
    "scrap=goodreads_review(URL,Genre)"
   ]
  },
  {
   "cell_type": "code",
   "execution_count": 8,
   "id": "01c4e876",
   "metadata": {},
   "outputs": [
    {
     "name": "stdout",
     "output_type": "stream",
     "text": [
      "Scraping is Done!\n"
     ]
    }
   ],
   "source": [
    "URL=f'https://www.goodreads.com/genres/new_releases/memoir'\n",
    "\n",
    "Genre=\"memoir_new\"\n",
    "\n",
    "scrap=goodreads_review(URL,Genre)\n"
   ]
  },
  {
   "cell_type": "code",
   "execution_count": null,
   "id": "3df5e890",
   "metadata": {},
   "outputs": [],
   "source": []
  }
 ],
 "metadata": {
  "kernelspec": {
   "display_name": "Python 3 (ipykernel)",
   "language": "python",
   "name": "python3"
  },
  "language_info": {
   "codemirror_mode": {
    "name": "ipython",
    "version": 3
   },
   "file_extension": ".py",
   "mimetype": "text/x-python",
   "name": "python",
   "nbconvert_exporter": "python",
   "pygments_lexer": "ipython3",
   "version": "3.11.4"
  }
 },
 "nbformat": 4,
 "nbformat_minor": 5
}
